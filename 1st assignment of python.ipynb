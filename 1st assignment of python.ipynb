{
 "cells": [
  {
   "cell_type": "markdown",
   "id": "c0423d65-0201-4f97-be21-688b202a490b",
   "metadata": {},
   "source": [
    "Define two variables,x and y and assign them as a integer value.swap the value without using temparory variable."
   ]
  },
  {
   "cell_type": "code",
   "execution_count": 1,
   "id": "ff32dc02-a920-433a-b650-28141355074c",
   "metadata": {},
   "outputs": [],
   "source": [
    "x=10\n",
    "y=20\n",
    "x,y=y,x"
   ]
  },
  {
   "cell_type": "code",
   "execution_count": 2,
   "id": "abeb969a-9214-4b8f-a34b-1d8396210128",
   "metadata": {},
   "outputs": [
    {
     "data": {
      "text/plain": [
       "20"
      ]
     },
     "execution_count": 2,
     "metadata": {},
     "output_type": "execute_result"
    }
   ],
   "source": [
    "x"
   ]
  },
  {
   "cell_type": "code",
   "execution_count": 3,
   "id": "c5dfd539-a5dc-4037-81c6-84c8f496eaac",
   "metadata": {},
   "outputs": [
    {
     "data": {
      "text/plain": [
       "10"
      ]
     },
     "execution_count": 3,
     "metadata": {},
     "output_type": "execute_result"
    }
   ],
   "source": [
    "y"
   ]
  },
  {
   "cell_type": "markdown",
   "id": "c078c7e8-c660-45a2-ad74-fff7620f4579",
   "metadata": {},
   "source": [
    "Program to calculate the rectangle area.take input length and height from the user."
   ]
  },
  {
   "cell_type": "code",
   "execution_count": 7,
   "id": "ebf1a05f-d010-488b-88a4-1971d947be86",
   "metadata": {},
   "outputs": [
    {
     "name": "stdin",
     "output_type": "stream",
     "text": [
      "input the rectangle length 12\n",
      "input the rectangle width 13\n"
     ]
    },
    {
     "name": "stdout",
     "output_type": "stream",
     "text": [
      "the rectangle length is: 156.0\n"
     ]
    }
   ],
   "source": [
    "length=float(input('input the rectangle length'))\n",
    "width=float(input('input the rectangle width'))\n",
    "area=length*width\n",
    "print('the rectangle length is:',area)"
   ]
  },
  {
   "cell_type": "markdown",
   "id": "9acb89ae-4e69-44ed-af61-2bb9b9254f70",
   "metadata": {},
   "source": [
    "Program to convert celsius to fahrenheit temperature"
   ]
  },
  {
   "cell_type": "code",
   "execution_count": 10,
   "id": "e0eb1539-b988-455c-9a85-e6c1934cfbba",
   "metadata": {},
   "outputs": [
    {
     "name": "stdin",
     "output_type": "stream",
     "text": [
      "enter the temperature in celsius 35\n"
     ]
    },
    {
     "name": "stdout",
     "output_type": "stream",
     "text": [
      "temperature in fahrenheit is: 95.0\n"
     ]
    }
   ],
   "source": [
    "celcius=float(input('enter the temperature in celsius'))\n",
    "Fahrenheit=(celcius*9/5)+32\n",
    "print('temperature in fahrenheit is:',Fahrenheit)"
   ]
  },
  {
   "cell_type": "markdown",
   "id": "2bd12095-b587-4897-9a8a-10418bbe9f3a",
   "metadata": {},
   "source": [
    "Program that takes string as input and prints the length of string"
   ]
  },
  {
   "cell_type": "code",
   "execution_count": 14,
   "id": "b477a250-b3b9-464e-89dd-9d2d15557e25",
   "metadata": {},
   "outputs": [
    {
     "name": "stdin",
     "output_type": "stream",
     "text": [
      "enter the string Mayur\n"
     ]
    },
    {
     "name": "stdout",
     "output_type": "stream",
     "text": [
      "the length of string is: 5\n"
     ]
    }
   ],
   "source": [
    "S=(input('enter the string'))\n",
    "print('the length of string is:',len(S))            "
   ]
  },
  {
   "cell_type": "markdown",
   "id": "f7dac596-2e1c-458c-8457-0a3f95ce191c",
   "metadata": {},
   "source": [
    "Program that takes a sentence from the user and counts the number vowel in string"
   ]
  },
  {
   "cell_type": "code",
   "execution_count": 22,
   "id": "864ae3e7-25c9-4203-acc3-ec44410a1a2d",
   "metadata": {},
   "outputs": [
    {
     "name": "stdin",
     "output_type": "stream",
     "text": [
      "enter the string Mayur\n"
     ]
    },
    {
     "name": "stdout",
     "output_type": "stream",
     "text": [
      "number of vowels: 2\n"
     ]
    }
   ],
   "source": [
    "sentenance=input('enter the string')\n",
    "sentenance.lower()\n",
    "vowels=0\n",
    "for i in sentenance:\n",
    "    if(i=='a' or i=='e' or i=='i' or i=='o' or i=='u'):\n",
    "        vowels=vowels+1\n",
    "print('number of vowels:',vowels)        "
   ]
  },
  {
   "cell_type": "markdown",
   "id": "9d52270b-9bfa-4b0d-8390-a2f592ead466",
   "metadata": {},
   "source": [
    "Given a string,reverse the order of character using string slicing and print the reverse string"
   ]
  },
  {
   "cell_type": "code",
   "execution_count": 25,
   "id": "4bb6000e-1ef9-4b80-8f52-1fdd776909cb",
   "metadata": {},
   "outputs": [
    {
     "name": "stdin",
     "output_type": "stream",
     "text": [
      "input the string mayur\n"
     ]
    },
    {
     "name": "stdout",
     "output_type": "stream",
     "text": [
      "reversed string is: ruyam\n"
     ]
    }
   ],
   "source": [
    "string=input('input the string')\n",
    "output=string[::-1]\n",
    "print('reversed string is:',output)"
   ]
  },
  {
   "cell_type": "markdown",
   "id": "3f3ae278-effe-4587-a2d3-f9d345b9b1d8",
   "metadata": {},
   "source": [
    "Program that takes a string as input and checks if it is palindrome."
   ]
  },
  {
   "cell_type": "code",
   "execution_count": 34,
   "id": "2c203aa6-8da9-4eb4-899a-0b4399869bb8",
   "metadata": {},
   "outputs": [
    {
     "name": "stdin",
     "output_type": "stream",
     "text": [
      "input the string mayur\n"
     ]
    },
    {
     "name": "stdout",
     "output_type": "stream",
     "text": [
      "string is not palindrome\n"
     ]
    }
   ],
   "source": [
    "s2=input('input the string')\n",
    "s3=s2[::-1]\n",
    "if s2==s3:\n",
    "    print('string is palindrome')\n",
    "else:\n",
    "    print('string is not palindrome')\n"
   ]
  },
  {
   "cell_type": "markdown",
   "id": "6a7e6a46-48fb-40dc-b459-47c896272004",
   "metadata": {},
   "source": [
    "creat a program that takes a string as input and remove all the spaces and print the modified string"
   ]
  },
  {
   "cell_type": "code",
   "execution_count": 36,
   "id": "8adfe082-de8f-48f4-96e1-298ab8cf2647",
   "metadata": {},
   "outputs": [
    {
     "name": "stdin",
     "output_type": "stream",
     "text": [
      "input the string may  ur\n"
     ]
    },
    {
     "name": "stdout",
     "output_type": "stream",
     "text": [
      "Modified string without space is: may  ur\n"
     ]
    }
   ],
   "source": [
    "string=input('input the string')\n",
    "output_string=string.replace\n",
    "print('Modified string without space is:',output_string)"
   ]
  },
  {
   "cell_type": "code",
   "execution_count": null,
   "id": "1fecd0d1-24b8-49aa-ae51-b144b5ae6cde",
   "metadata": {},
   "outputs": [],
   "source": []
  }
 ],
 "metadata": {
  "kernelspec": {
   "display_name": "Python 3 (ipykernel)",
   "language": "python",
   "name": "python3"
  },
  "language_info": {
   "codemirror_mode": {
    "name": "ipython",
    "version": 3
   },
   "file_extension": ".py",
   "mimetype": "text/x-python",
   "name": "python",
   "nbconvert_exporter": "python",
   "pygments_lexer": "ipython3",
   "version": "3.10.8"
  }
 },
 "nbformat": 4,
 "nbformat_minor": 5
}
